{
 "cells": [
  {
   "cell_type": "markdown",
   "metadata": {},
   "source": [
    "# 📘 XGBoost Step-by-Step Example (Manual Calculation)\n",
    "\n",
    "This notebook walks through one full iteration of XGBoost for binary classification on a small dataset, showing all internal calculations (log-odds, gradients, hessians, gain, leaf weights, and prediction updates)."
   ]
  },
  {
   "cell_type": "code",
   "execution_count": null,
   "metadata": {},
   "outputs": [],
   "source": [
    "# 📊 Step 1: Prepare Dataset\n",
    "import pandas as pd\n",
    "import numpy as np\n",
    "import math\n",
    "\n",
    "data = pd.DataFrame({\n",
    "    'ID': [1, 2, 3, 4],\n",
    "    'Age': [25, 45, 35, 22],\n",
    "    'Salary': [50, 80, 60, 45],\n",
    "    'EduLevel': [1, 2, 1, 0],\n",
    "    'Gender': [0, 1, 0, 1],\n",
    "    'CreditScore': [700, 780, 720, 680],\n",
    "    'Y': [0, 1, 1, 0]\n",
    "})\n",
    "data"
   ]
  },
  {
   "cell_type": "code",
   "execution_count": null,
   "metadata": {},
   "outputs": [],
   "source": [
    "# 🧮 Step 2: Initial Log-Odds and Prediction\n",
    "y_mean = data['Y'].mean()\n",
    "f0 = math.log(y_mean / (1 - y_mean))\n",
    "data['f0'] = f0\n",
    "data['y_hat0'] = 1 / (1 + np.exp(-f0))\n",
    "data"
   ]
  },
  {
   "cell_type": "code",
   "execution_count": null,
   "metadata": {},
   "outputs": [],
   "source": [
    "# 📉 Step 3: Gradients and Hessians\n",
    "data['grad'] = data['y_hat0'] - data['Y']\n",
    "data['hess'] = data['y_hat0'] * (1 - data['y_hat0'])\n",
    "data"
   ]
  },
  {
   "cell_type": "code",
   "execution_count": null,
   "metadata": {},
   "outputs": [],
   "source": [
    "# 🌳 Step 4: Try Split on Age < 30\n",
    "left = data[data['Age'] < 30]\n",
    "right = data[data['Age'] >= 30]\n",
    "\n",
    "gL, hL = left['grad'].sum(), left['hess'].sum()\n",
    "gR, hR = right['grad'].sum(), right['hess'].sum()\n",
    "gT, hT = data['grad'].sum(), data['hess'].sum()\n",
    "\n",
    "lambda_ = 1\n",
    "gain = 0.5 * ((gL**2 / (hL + lambda_)) + (gR**2 / (hR + lambda_)) - (gT**2 / (hT + lambda_)))\n",
    "gain"
   ]
  },
  {
   "cell_type": "code",
   "execution_count": null,
   "metadata": {},
   "outputs": [],
   "source": [
    "# 🍃 Step 5: Compute Leaf Weights\n",
    "wL = -gL / (hL + lambda_)\n",
    "wR = -gR / (hR + lambda_)\n",
    "wL, wR"
   ]
  },
  {
   "cell_type": "code",
   "execution_count": null,
   "metadata": {},
   "outputs": [],
   "source": [
    "# ➕ Step 6: Update Raw Predictions (f1)\n",
    "eta = 0.1\n",
    "data['leaf'] = np.where(data['Age'] < 30, 'L', 'R')\n",
    "data['weight'] = np.where(data['leaf'] == 'L', wL, wR)\n",
    "data['f1'] = data['f0'] + eta * data['weight']\n",
    "data['y_hat1'] = 1 / (1 + np.exp(-data['f1']))\n",
    "data[['ID', 'f0', 'y_hat0', 'grad', 'hess', 'f1', 'y_hat1']]"
   ]
  }
 ],
 "metadata": {
  "kernelspec": {
   "display_name": "ml-oLtWhEFA-py3.9",
   "language": "python",
   "name": "python3"
  },
  "language_info": {
   "name": "python",
   "version": "3.9.0"
  }
 },
 "nbformat": 4,
 "nbformat_minor": 2
}
