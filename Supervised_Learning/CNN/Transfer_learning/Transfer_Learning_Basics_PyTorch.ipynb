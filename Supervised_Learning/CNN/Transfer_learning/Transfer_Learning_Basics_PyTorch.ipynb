{
 "cells": [
  {
   "cell_type": "markdown",
   "metadata": {},
   "source": [
    "# 🧠 Transfer Learning with PyTorch\n",
    "\n",
    "Welcome to this beginner-friendly notebook where we'll explore **Transfer Learning** using **PyTorch**. \n",
    "\n",
    "### 👇 What you'll learn:\n",
    "- What is transfer learning?\n",
    "- How to use a pretrained model (ResNet18)\n",
    "- How to replace the classifier head\n",
    "- How to train it on a small dataset (e.g., CIFAR-10 subset)"
   ]
  },
  {
   "cell_type": "markdown",
   "metadata": {},
   "source": [
    "## 🔍 Step 1: Import Libraries"
   ]
  },
  {
   "cell_type": "code",
   "execution_count": null,
   "metadata": {},
   "outputs": [],
   "source": []
  },
  {
   "cell_type": "markdown",
   "metadata": {},
   "source": [
    "## 📥 Step 2: Load Dataset (CIFAR-10 Subset)"
   ]
  },
  {
   "cell_type": "code",
   "execution_count": null,
   "metadata": {},
   "outputs": [],
   "source": []
  },
  {
   "cell_type": "markdown",
   "metadata": {},
   "source": [
    "## 🧠 Step 3: Load Pretrained ResNet18 and Modify Classifier"
   ]
  },
  {
   "cell_type": "code",
   "execution_count": null,
   "metadata": {},
   "outputs": [],
   "source": []
  },
  {
   "cell_type": "markdown",
   "id": "dfa7662c",
   "metadata": {},
   "source": [
    "##  Function to Calculate the parameters"
   ]
  },
  {
   "cell_type": "code",
   "execution_count": null,
   "id": "b6016276",
   "metadata": {},
   "outputs": [],
   "source": [
    "def count_parameters(model):\n",
    "    total_params = sum(p.numel() for p in model.parameters())\n",
    "    trainable_params = sum(p.numel() for p in model.parameters() if p.requires_grad)\n",
    "    return total_params, trainable_params\n",
    "\n"
   ]
  },
  {
   "cell_type": "markdown",
   "id": "e8641392",
   "metadata": {},
   "source": [
    "## Info and Parameters"
   ]
  },
  {
   "cell_type": "code",
   "execution_count": null,
   "id": "13b6af93",
   "metadata": {},
   "outputs": [],
   "source": []
  },
  {
   "cell_type": "markdown",
   "id": "17923788",
   "metadata": {},
   "source": [
    "## 🧠 Step 3:  Modify Classifier"
   ]
  },
  {
   "cell_type": "code",
   "execution_count": null,
   "id": "d0a8021e",
   "metadata": {},
   "outputs": [],
   "source": []
  },
  {
   "cell_type": "code",
   "execution_count": null,
   "id": "ee7c5322",
   "metadata": {},
   "outputs": [],
   "source": []
  },
  {
   "cell_type": "markdown",
   "metadata": {},
   "source": [
    "## 🏋️‍♂️ Step 4: Train the New Classifier"
   ]
  },
  {
   "cell_type": "code",
   "execution_count": null,
   "metadata": {},
   "outputs": [],
   "source": []
  },
  {
   "cell_type": "markdown",
   "metadata": {},
   "source": [
    "## ✅ Conclusion\n",
    "- We used a **pretrained ResNet18** as a **feature extractor**.\n",
    "- We replaced the top layer and trained it on a small dataset.\n",
    "- You just performed **transfer learning** in PyTorch! 🎉"
   ]
  }
 ],
 "metadata": {
  "kernelspec": {
   "display_name": "ml-oLtWhEFA-py3.9",
   "language": "python",
   "name": "python3"
  },
  "language_info": {
   "codemirror_mode": {
    "name": "ipython",
    "version": 3
   },
   "file_extension": ".py",
   "mimetype": "text/x-python",
   "name": "python",
   "nbconvert_exporter": "python",
   "pygments_lexer": "ipython3",
   "version": "3.9.0"
  }
 },
 "nbformat": 4,
 "nbformat_minor": 5
}
