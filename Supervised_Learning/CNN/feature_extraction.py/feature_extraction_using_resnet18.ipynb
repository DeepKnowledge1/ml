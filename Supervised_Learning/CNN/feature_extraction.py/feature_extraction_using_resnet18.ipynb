{
 "cells": [
  {
   "cell_type": "markdown",
   "id": "2b88c524",
   "metadata": {},
   "source": [
    "# Using ResNet18 for Feature Extraction"
   ]
  },
  {
   "cell_type": "markdown",
   "id": "51e7a3a9",
   "metadata": {},
   "source": [
    "In this notebook, we'll be using ResNet18 for feature extraction."
   ]
  },
  {
   "cell_type": "markdown",
   "id": "f0563879",
   "metadata": {},
   "source": [
    "# importing Pkg"
   ]
  },
  {
   "cell_type": "code",
   "execution_count": 1,
   "id": "39b9dd5a",
   "metadata": {},
   "outputs": [
    {
     "name": "stderr",
     "output_type": "stream",
     "text": [
      "c:\\Users\\abdulgader\\AppData\\Local\\pypoetry\\Cache\\virtualenvs\\ml-oLtWhEFA-py3.9\\lib\\site-packages\\tqdm\\auto.py:21: TqdmWarning: IProgress not found. Please update jupyter and ipywidgets. See https://ipywidgets.readthedocs.io/en/stable/user_install.html\n",
      "  from .autonotebook import tqdm as notebook_tqdm\n"
     ]
    }
   ],
   "source": [
    "import torch\n",
    "import torch.nn.functional as F \n",
    "import torch.nn as nn\n",
    "from torchvision import models"
   ]
  },
  {
   "cell_type": "code",
   "execution_count": 3,
   "id": "c06d8e77",
   "metadata": {},
   "outputs": [],
   "source": [
    "\n",
    "backbones = {\n",
    "    \"resnet18\": models.resnet18,\n",
    "    \"wide_resnet50\": models.wide_resnet50_2,\n",
    "    \"resnext50_32x4d\": models.resnext50_32x4d,\n",
    "    \"resnet50\": models.resnet50,\n",
    "}\n"
   ]
  },
  {
   "cell_type": "markdown",
   "id": "3d5dcafc",
   "metadata": {},
   "source": [
    "# Feature extraction class"
   ]
  },
  {
   "cell_type": "code",
   "execution_count": 32,
   "id": "c1e82fcf",
   "metadata": {},
   "outputs": [],
   "source": [
    "# Backbone name\n",
    "# layer: which i want to extract features from\n",
    "class FeatureExtraction(nn.Module):\n",
    "    def __init__(self, backbone_name, layer_indices, device):\n",
    "        super().__init__()\n",
    "        self.backbone = backbones[backbone_name](weights =True)\n",
    "        self.device =device \n",
    "        self.layer_indices = layer_indices\n",
    "    \n",
    "    def forward(self,batch,layer_hook=None):\n",
    "        with torch.no_grad():\n",
    "            batch = self.backbone.conv1(batch)        \n",
    "            batch = self.backbone.bn1(batch)\n",
    "            batch = self.backbone.relu(batch)\n",
    "            batch = self.backbone.maxpool(batch)\n",
    "            \n",
    "            \n",
    "            layer1 = self.backbone.layer1(batch)\n",
    "            layer2 = self.backbone.layer2(layer1)\n",
    "            layer3 = self.backbone.layer3(layer2)\n",
    "            layer4 = self.backbone.layer4(layer3)\n",
    "            layers = [layer1,layer2,layer3,layer4]\n",
    "            \n",
    "            if  self.layer_indices is not None:\n",
    "                layers = [layers[i] for i in self.layer_indices]\n",
    "            \n",
    "            if layer_hook:\n",
    "                layers = [layer_hook(layer) for layer in layers]\n",
    "            embeddings = concatenate_layers(layers)\n",
    "            return embeddings\n",
    "                            "
   ]
  },
  {
   "cell_type": "markdown",
   "id": "3cd327b8",
   "metadata": {},
   "source": [
    "# Concatenating the features"
   ]
  },
  {
   "cell_type": "code",
   "execution_count": 31,
   "id": "b505957f",
   "metadata": {},
   "outputs": [],
   "source": [
    "\n",
    "def concatenate_layers(layers):\n",
    "    size = layers[0].shape[-2:]\n",
    "    resized_layers = [F.interpolate(layer, size=size, mode=\"nearest\") if layer.shape[-2:] != size else layer for layer in layers]\n",
    "    return torch.cat(resized_layers, dim=1)\n"
   ]
  },
  {
   "cell_type": "markdown",
   "id": "db45643d",
   "metadata": {},
   "source": [
    "# Initialize the FeatureExtraction"
   ]
  },
  {
   "cell_type": "code",
   "execution_count": 38,
   "id": "38498904",
   "metadata": {},
   "outputs": [
    {
     "name": "stderr",
     "output_type": "stream",
     "text": [
      "c:\\Users\\abdulgader\\AppData\\Local\\pypoetry\\Cache\\virtualenvs\\ml-oLtWhEFA-py3.9\\lib\\site-packages\\torchvision\\models\\_utils.py:223: UserWarning: Arguments other than a weight enum or `None` for 'weights' are deprecated since 0.13 and may be removed in the future. The current behavior is equivalent to passing `weights=Wide_ResNet50_2_Weights.IMAGENET1K_V1`. You can also use `weights=Wide_ResNet50_2_Weights.DEFAULT` to get the most up-to-date weights.\n",
      "  warnings.warn(msg)\n",
      "Downloading: \"https://download.pytorch.org/models/wide_resnet50_2-95faca4d.pth\" to C:\\Users\\abdulgader/.cache\\torch\\hub\\checkpoints\\wide_resnet50_2-95faca4d.pth\n",
      "100%|██████████| 132M/132M [00:04<00:00, 31.9MB/s] \n"
     ]
    }
   ],
   "source": [
    "device = torch.device(\"cuda\" if torch.cuda.is_available() else \"cpu\")\n",
    "\n",
    "extractor = FeatureExtraction(\n",
    "    backbone_name=\"wide_resnet50\",\n",
    "    layer_indices=[0,1],\n",
    "    device=device\n",
    ")"
   ]
  },
  {
   "cell_type": "markdown",
   "id": "3f713860",
   "metadata": {},
   "source": [
    "# Transformer - Preprossing"
   ]
  },
  {
   "cell_type": "code",
   "execution_count": 29,
   "id": "bd4e2bcb",
   "metadata": {},
   "outputs": [],
   "source": [
    "\n",
    "from torchvision import transforms\n",
    "\n",
    "transform = transforms.Compose([\n",
    "    transforms.Resize((224, 224)),\n",
    "    transforms.ToTensor(),\n",
    "    transforms.Normalize(mean=[0.485, 0.456, 0.406], std=[0.229, 0.224, 0.225]),\n",
    "])\n"
   ]
  },
  {
   "cell_type": "markdown",
   "id": "99d8511f",
   "metadata": {},
   "source": [
    "# Example"
   ]
  },
  {
   "cell_type": "code",
   "execution_count": 39,
   "id": "f86ac487",
   "metadata": {},
   "outputs": [
    {
     "name": "stdout",
     "output_type": "stream",
     "text": [
      "embeddings torch.Size([1, 768, 56, 56])\n"
     ]
    }
   ],
   "source": [
    "from PIL import Image\n",
    "img = Image.open(\"img1.jpg\").convert(\"RGB\")\n",
    "\n",
    "\n",
    "batch = transform(img).unsqueeze(0).to(device)\n",
    "embeddings = extractor(batch)\n",
    "\n",
    "\n",
    "print(\"embeddings\",  embeddings.shape)"
   ]
  },
  {
   "cell_type": "code",
   "execution_count": null,
   "id": "010fb7f9",
   "metadata": {},
   "outputs": [
    {
     "name": "stdout",
     "output_type": "stream",
     "text": [
      "Layer1 torch.Size([1, 64, 56, 56])\n",
      "Layer2 torch.Size([1, 128, 28, 28])\n",
      "Layer3 torch.Size([1, 256, 14, 14])\n",
      "Layer4 torch.Size([1, 512, 7, 7])\n"
     ]
    }
   ],
   "source": [
    "\n",
    "# print(\"Layer1\",  embeddings[0].shape)\n",
    "# print(\"Layer2\",  embeddings[1].shape)\n",
    "# print(\"Layer3\",  embeddings[2].shape)\n",
    "# print(\"Layer4\",  embeddings[3].shape)"
   ]
  },
  {
   "cell_type": "code",
   "execution_count": null,
   "id": "adabf210",
   "metadata": {},
   "outputs": [],
   "source": []
  }
 ],
 "metadata": {
  "kernelspec": {
   "display_name": "ml-oLtWhEFA-py3.9",
   "language": "python",
   "name": "python3"
  },
  "language_info": {
   "codemirror_mode": {
    "name": "ipython",
    "version": 3
   },
   "file_extension": ".py",
   "mimetype": "text/x-python",
   "name": "python",
   "nbconvert_exporter": "python",
   "pygments_lexer": "ipython3",
   "version": "3.9.0"
  }
 },
 "nbformat": 4,
 "nbformat_minor": 5
}
