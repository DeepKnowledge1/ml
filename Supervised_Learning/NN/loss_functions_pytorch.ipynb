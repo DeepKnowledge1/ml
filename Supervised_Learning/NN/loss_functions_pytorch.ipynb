{
 "cells": [
  {
   "cell_type": "markdown",
   "metadata": {},
   "source": [
    "# PyTorch Loss Functions (Beginner-Friendly Examples)\n",
    "This notebook demonstrates common loss functions in PyTorch with simple examples and comments."
   ]
  },
  {
   "cell_type": "code",
   "execution_count": 1,
   "metadata": {},
   "outputs": [],
   "source": [
    "import torch\n",
    "import torch.nn as nn"
   ]
  },
  {
   "cell_type": "markdown",
   "metadata": {},
   "source": [
    "## 1. Mean Squared Error (MSELoss)\n",
    "Used for regression tasks. Penalizes large errors more."
   ]
  },
  {
   "cell_type": "code",
   "execution_count": 2,
   "metadata": {},
   "outputs": [
    {
     "name": "stdout",
     "output_type": "stream",
     "text": [
      "MSE Loss: 100.0\n"
     ]
    }
   ],
   "source": [
    "y_pred = torch.tensor([60.0])\n",
    "y_true = torch.tensor([50.0])\n",
    "mse = nn.MSELoss()\n",
    "print(\"MSE Loss:\", mse(y_pred, y_true).item())"
   ]
  },
  {
   "cell_type": "markdown",
   "metadata": {},
   "source": [
    "## 2. Mean Absolute Error (L1Loss)\n",
    "Also for regression. Less sensitive to outliers than MSE."
   ]
  },
  {
   "cell_type": "code",
   "execution_count": null,
   "metadata": {},
   "outputs": [],
   "source": [
    "mae = nn.L1Loss()\n",
    "print(\"MAE Loss:\", mae(y_pred, y_true).item())"
   ]
  },
  {
   "cell_type": "markdown",
   "metadata": {},
   "source": [
    "## 3. Huber Loss (SmoothL1Loss)\n",
    "Combination of MAE and MSE. More robust to outliers than MSE."
   ]
  },
  {
   "cell_type": "code",
   "execution_count": null,
   "metadata": {},
   "outputs": [],
   "source": [
    "huber = nn.SmoothL1Loss()\n",
    "print(\"Huber Loss:\", huber(y_pred, y_true).item())"
   ]
  },
  {
   "cell_type": "markdown",
   "metadata": {},
   "source": [
    "## 4. Binary Cross-Entropy (BCELoss)\n",
    "Used for binary classification. Input must be probabilities (after sigmoid)."
   ]
  },
  {
   "cell_type": "code",
   "execution_count": null,
   "metadata": {},
   "outputs": [],
   "source": [
    "y_pred_bce = torch.tensor([0.9])\n",
    "y_true_bce = torch.tensor([1.0])\n",
    "bce = nn.BCELoss()\n",
    "print(\"Binary Cross-Entropy:\", bce(y_pred_bce, y_true_bce).item())"
   ]
  },
  {
   "cell_type": "markdown",
   "metadata": {},
   "source": [
    "## 5. BCEWithLogitsLoss\n",
    "More stable version of BCELoss. Accepts raw logits (no sigmoid needed)."
   ]
  },
  {
   "cell_type": "code",
   "execution_count": null,
   "metadata": {},
   "outputs": [],
   "source": [
    "y_pred_logits = torch.tensor([2.0])\n",
    "bce_logits = nn.BCEWithLogitsLoss()\n",
    "print(\"BCEWithLogitsLoss:\", bce_logits(y_pred_logits, y_true_bce).item())"
   ]
  },
  {
   "cell_type": "markdown",
   "metadata": {},
   "source": [
    "## 6. Categorical Cross-Entropy (CrossEntropyLoss)\n",
    "Used for multi-class classification. Takes logits and class indices (not one-hot)."
   ]
  },
  {
   "cell_type": "code",
   "execution_count": null,
   "metadata": {},
   "outputs": [],
   "source": [
    "y_pred_cat = torch.tensor([[1.2, 0.5, 2.1]])\n",
    "y_true_cat = torch.tensor([2])\n",
    "cross_entropy = nn.CrossEntropyLoss()\n",
    "print(\"Cross-Entropy Loss:\", cross_entropy(y_pred_cat, y_true_cat).item())"
   ]
  },
  {
   "cell_type": "markdown",
   "metadata": {},
   "source": [
    "## 7. Hinge Loss (Manual Implementation)\n",
    "Used in SVMs. Not available directly in PyTorch."
   ]
  },
  {
   "cell_type": "code",
   "execution_count": null,
   "metadata": {},
   "outputs": [],
   "source": [
    "def hinge_loss(y_pred, y_true):\n",
    "    return torch.mean(torch.clamp(1 - y_pred * y_true, min=0))\n",
    "\n",
    "y_pred_hinge = torch.tensor([0.8, -0.5, 1.0])\n",
    "y_true_hinge = torch.tensor([1.0, -1.0, 1.0])\n",
    "print(\"Hinge Loss:\", hinge_loss(y_pred_hinge, y_true_hinge).item())"
   ]
  }
 ],
 "metadata": {
  "kernelspec": {
   "display_name": "ml-oLtWhEFA-py3.9",
   "language": "python",
   "name": "python3"
  },
  "language_info": {
   "codemirror_mode": {
    "name": "ipython",
    "version": 3
   },
   "file_extension": ".py",
   "mimetype": "text/x-python",
   "name": "python",
   "nbconvert_exporter": "python",
   "pygments_lexer": "ipython3",
   "version": "3.9.0"
  }
 },
 "nbformat": 4,
 "nbformat_minor": 2
}
