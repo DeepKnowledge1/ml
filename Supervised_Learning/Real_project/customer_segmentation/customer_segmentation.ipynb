{
  "cells": [
    {
      "cell_type": "markdown",
      "id": "b8fa3558",
      "metadata": {},
      "source": [
        "# <span style=\"color: green\"> Customer Segmentation Example </span>\n",
        "\n",
        "\n",
        "In this notebook, we will explore customer segmentation using clustering techniques such as KMeans, DBSCAN, and Gaussian Mixture Models. We will use the provided dataset to perform the segmentation, evaluate the clustering results, and visualize the results."
      ]
    },
    {
      "cell_type": "code",
      "execution_count": 1,
      "id": "15f9ef3c",
      "metadata": {},
      "outputs": [],
      "source": [
        "# Importing Necessary Libraries\n",
        "import pandas as pd\n",
        "import numpy as np\n",
        "import seaborn as sns\n",
        "import matplotlib.pyplot as plt\n",
        "from sklearn.preprocessing import LabelEncoder, StandardScaler, MinMaxScaler\n",
        "from sklearn.cluster import KMeans, MeanShift, DBSCAN\n",
        "from sklearn.mixture import GaussianMixture\n",
        "from sklearn.decomposition import PCA\n",
        "from sklearn.metrics import calinski_harabasz_score, davies_bouldin_score, silhouette_score\n",
        "from sklearn.neighbors import KernelDensity"
      ]
    },
    {
      "cell_type": "markdown",
      "id": "a2a01f16",
      "metadata": {},
      "source": [
        "## <span style=\"color: Blue\"> 1. Data Loading and Exploration </span>\n",
        "In this chapter, we will load the dataset and perform initial data exploration to understand the structure and basic statistics."
      ]
    },
    {
      "cell_type": "code",
      "execution_count": null,
      "id": "0c2c9fa9",
      "metadata": {},
      "outputs": [
        {
          "data": {
            "text/html": [
              "<div>\n",
              "<style scoped>\n",
              "    .dataframe tbody tr th:only-of-type {\n",
              "        vertical-align: middle;\n",
              "    }\n",
              "\n",
              "    .dataframe tbody tr th {\n",
              "        vertical-align: top;\n",
              "    }\n",
              "\n",
              "    .dataframe thead th {\n",
              "        text-align: right;\n",
              "    }\n",
              "</style>\n",
              "<table border=\"1\" class=\"dataframe\">\n",
              "  <thead>\n",
              "    <tr style=\"text-align: right;\">\n",
              "      <th></th>\n",
              "      <th>InvoiceNo</th>\n",
              "      <th>StockCode</th>\n",
              "      <th>Description</th>\n",
              "      <th>Quantity</th>\n",
              "      <th>InvoiceDate</th>\n",
              "      <th>UnitPrice</th>\n",
              "      <th>CustomerID</th>\n",
              "      <th>Country</th>\n",
              "    </tr>\n",
              "  </thead>\n",
              "  <tbody>\n",
              "    <tr>\n",
              "      <th>0</th>\n",
              "      <td>536365</td>\n",
              "      <td>85123A</td>\n",
              "      <td>WHITE HANGING HEART T-LIGHT HOLDER</td>\n",
              "      <td>6</td>\n",
              "      <td>2010-12-01 08:26:00</td>\n",
              "      <td>2.55</td>\n",
              "      <td>17850.0</td>\n",
              "      <td>United Kingdom</td>\n",
              "    </tr>\n",
              "    <tr>\n",
              "      <th>1</th>\n",
              "      <td>536365</td>\n",
              "      <td>71053</td>\n",
              "      <td>WHITE METAL LANTERN</td>\n",
              "      <td>6</td>\n",
              "      <td>2010-12-01 08:26:00</td>\n",
              "      <td>3.39</td>\n",
              "      <td>17850.0</td>\n",
              "      <td>United Kingdom</td>\n",
              "    </tr>\n",
              "    <tr>\n",
              "      <th>2</th>\n",
              "      <td>536365</td>\n",
              "      <td>84406B</td>\n",
              "      <td>CREAM CUPID HEARTS COAT HANGER</td>\n",
              "      <td>8</td>\n",
              "      <td>2010-12-01 08:26:00</td>\n",
              "      <td>2.75</td>\n",
              "      <td>17850.0</td>\n",
              "      <td>United Kingdom</td>\n",
              "    </tr>\n",
              "    <tr>\n",
              "      <th>3</th>\n",
              "      <td>536365</td>\n",
              "      <td>84029G</td>\n",
              "      <td>KNITTED UNION FLAG HOT WATER BOTTLE</td>\n",
              "      <td>6</td>\n",
              "      <td>2010-12-01 08:26:00</td>\n",
              "      <td>3.39</td>\n",
              "      <td>17850.0</td>\n",
              "      <td>United Kingdom</td>\n",
              "    </tr>\n",
              "    <tr>\n",
              "      <th>4</th>\n",
              "      <td>536365</td>\n",
              "      <td>84029E</td>\n",
              "      <td>RED WOOLLY HOTTIE WHITE HEART.</td>\n",
              "      <td>6</td>\n",
              "      <td>2010-12-01 08:26:00</td>\n",
              "      <td>3.39</td>\n",
              "      <td>17850.0</td>\n",
              "      <td>United Kingdom</td>\n",
              "    </tr>\n",
              "  </tbody>\n",
              "</table>\n",
              "</div>"
            ],
            "text/plain": [
              "  InvoiceNo StockCode                          Description  Quantity  \\\n",
              "0    536365    85123A   WHITE HANGING HEART T-LIGHT HOLDER         6   \n",
              "1    536365     71053                  WHITE METAL LANTERN         6   \n",
              "2    536365    84406B       CREAM CUPID HEARTS COAT HANGER         8   \n",
              "3    536365    84029G  KNITTED UNION FLAG HOT WATER BOTTLE         6   \n",
              "4    536365    84029E       RED WOOLLY HOTTIE WHITE HEART.         6   \n",
              "\n",
              "          InvoiceDate  UnitPrice  CustomerID         Country  \n",
              "0 2010-12-01 08:26:00       2.55     17850.0  United Kingdom  \n",
              "1 2010-12-01 08:26:00       3.39     17850.0  United Kingdom  \n",
              "2 2010-12-01 08:26:00       2.75     17850.0  United Kingdom  \n",
              "3 2010-12-01 08:26:00       3.39     17850.0  United Kingdom  \n",
              "4 2010-12-01 08:26:00       3.39     17850.0  United Kingdom  "
            ]
          },
          "execution_count": 3,
          "metadata": {},
          "output_type": "execute_result"
        }
      ],
      "source": [
        "# Load the dataset\n",
        "df = pd.DataFrame(pd.read_excel('./Online Retail.xlsx'))\n",
        "\n",
        "df.head()"
      ]
    },
    {
      "cell_type": "markdown",
      "id": "00e9f58c",
      "metadata": {},
      "source": [
        "## <span style=\"color: Blue\"> Select subdata </span>\n",
        "\n",
        "\n",
        "My Notebook is not a powerful PC, so i need to take only a subset of the dataset"
      ]
    },
    {
      "cell_type": "code",
      "execution_count": null,
      "id": "4413f2ea",
      "metadata": {},
      "outputs": [],
      "source": [
        "# Group by 'Country' and select 300 rows for each country\n",
        "data = df.groupby('Country').apply(lambda x: x.head(300)).reset_index(drop=True)\n",
        "data.head()"
      ]
    },
    {
      "cell_type": "markdown",
      "id": "98125189",
      "metadata": {},
      "source": [
        "## <span style=\"color: Blue\"> 2. Data Preprocessing </span>\n",
        "In this section, we will preprocess the data by handling missing values, encoding categorical variables, and scaling the features."
      ]
    },
    {
      "cell_type": "code",
      "execution_count": 3,
      "id": "1d164911",
      "metadata": {},
      "outputs": [],
      "source": [
        "# Handling missing values\n",
        "data = data.fillna(data.mean())\n",
        "\n",
        "# Encoding categorical variables\n",
        "le = LabelEncoder()\n",
        "data['Category'] = le.fit_transform(data['Category'])  # Example of categorical column\n",
        "\n",
        "# Feature scaling\n",
        "scaler = StandardScaler()\n",
        "scaled_data = scaler.fit_transform(data.drop('CustomerID', axis=1))  # Drop non-numerical columns"
      ]
    },
    {
      "cell_type": "markdown",
      "id": "34385175",
      "metadata": {},
      "source": [
        "## <span style=\"color: Blue\"> 3. Clustering the Data</span>\n",
        "Now that we have preprocessed the data, we will apply different clustering algorithms to segment the customers into groups."
      ]
    },
    {
      "cell_type": "code",
      "execution_count": 4,
      "id": "0c04ad85",
      "metadata": {},
      "outputs": [],
      "source": [
        "# KMeans Clustering\n",
        "kmeans = KMeans(n_clusters=5, random_state=42)\n",
        "kmeans_labels = kmeans.fit_predict(scaled_data)\n",
        "data['KMeans_Cluster'] = kmeans_labels\n",
        "\n",
        "# DBSCAN Clustering\n",
        "dbscan = DBSCAN(eps=0.5, min_samples=5)\n",
        "dbscan_labels = dbscan.fit_predict(scaled_data)\n",
        "data['DBSCAN_Cluster'] = dbscan_labels\n",
        "\n",
        "# Gaussian Mixture Model\n",
        "gmm = GaussianMixture(n_components=5, random_state=42)\n",
        "gmm_labels = gmm.fit_predict(scaled_data)\n",
        "data['GMM_Cluster'] = gmm_labels"
      ]
    },
    {
      "cell_type": "markdown",
      "id": "2ddeda42",
      "metadata": {},
      "source": [
        "## <span style=\"color: Blue\"> 4. Dimensionality Reduction and Visualization</span>\n",
        "To better visualize the clusters, we will reduce the dimensionality of the data using PCA and plot the results."
      ]
    },
    {
      "cell_type": "code",
      "execution_count": 5,
      "id": "1c85befa",
      "metadata": {},
      "outputs": [],
      "source": [
        "# Apply PCA for 2D visualization\n",
        "pca = PCA(n_components=2)\n",
        "pca_components = pca.fit_transform(scaled_data)\n",
        "data['PCA1'] = pca_components[:, 0]\n",
        "data['PCA2'] = pca_components[:, 1]\n",
        "\n",
        "# Visualize KMeans Clusters\n",
        "plt.figure(figsize=(8,6))\n",
        "sns.scatterplot(x='PCA1', y='PCA2', hue='KMeans_Cluster', data=data, palette='viridis')\n",
        "plt.title('KMeans Clusters (PCA Projection)')\n",
        "plt.show()"
      ]
    },
    {
      "cell_type": "markdown",
      "id": "6550f1d8",
      "metadata": {},
      "source": [
        "## <span style=\"color: Blue\">  5. Clustering Performance Evaluation</span>\n",
        "In this section, we will evaluate the performance of the clustering algorithms using various metrics such as Silhouette Score, Calinski-Harabasz Score, and Davies-Bouldin Score."
      ]
    },
    {
      "cell_type": "code",
      "execution_count": 6,
      "id": "299b7e71",
      "metadata": {},
      "outputs": [],
      "source": [
        "# Performance Evaluation\n",
        "kmeans_score = silhouette_score(scaled_data, kmeans_labels)\n",
        "dbscan_score = silhouette_score(scaled_data, dbscan_labels)\n",
        "gmm_score = silhouette_score(scaled_data, gmm_labels)\n",
        "\n",
        "# Calinski-Harabasz Score\n",
        "kmeans_calinski = calinski_harabasz_score(scaled_data, kmeans_labels)\n",
        "dbscan_calinski = calinski_harabasz_score(scaled_data, dbscan_labels)\n",
        "gmm_calinski = calinski_harabasz_score(scaled_data, gmm_labels)\n",
        "\n",
        "# Davies-Bouldin Score\n",
        "kmeans_db = davies_bouldin_score(scaled_data, kmeans_labels)\n",
        "dbscan_db = davies_bouldin_score(scaled_data, dbscan_labels)\n",
        "gmm_db = davies_bouldin_score(scaled_data, gmm_labels)\n",
        "\n",
        "# Display Scores\n",
        "print(f'KMeans Silhouette Score: {kmeans_score}')\n",
        "print(f'DBSCAN Silhouette Score: {dbscan_score}')\n",
        "print(f'GMM Silhouette Score: {gmm_score}')\n",
        "print(f'KMeans Calinski-Harabasz Score: {kmeans_calinski}')\n",
        "print(f'DBSCAN Calinski-Harabasz Score: {dbscan_calinski}')\n",
        "print(f'GMM Calinski-Harabasz Score: {gmm_calinski}')\n",
        "print(f'KMeans Davies-Bouldin Score: {kmeans_db}')\n",
        "print(f'DBSCAN Davies-Bouldin Score: {dbscan_db}')\n",
        "print(f'GMM Davies-Bouldin Score: {gmm_db}')"
      ]
    },
    {
      "cell_type": "markdown",
      "id": "9d9d7fd2",
      "metadata": {},
      "source": [
        "## <span style=\"color: Blue\"> 6. Results Interpretation</span>\n",
        "\n",
        "In this section, we will summarize the findings from the clustering and evaluate which clustering algorithm performed best based on the evaluation metrics."
      ]
    },
    {
      "cell_type": "markdown",
      "id": "d138629c",
      "metadata": {},
      "source": [
        "\n",
        "\n",
        "### 📊 **Clustering Evaluation Metrics: A Comprehensive Overview**\n",
        "\n",
        "When assessing the quality of clustering results—especially in unsupervised learning—it's crucial to rely on quantitative metrics that provide insight into how well-separated and cohesive the clusters are. Below are three widely used internal evaluation metrics that help determine the effectiveness of a clustering algorithm.\n",
        "\n",
        "---\n",
        "\n",
        "#### 1️⃣ **Silhouette Score**  \n",
        "📏 *Range:* **-1 to +1**\n",
        "\n",
        "> *\"A measure of how similar an object is to its own cluster compared to others.\"*\n",
        "\n",
        "- **+1**: Indicates that the sample is far away from neighboring clusters — ideal scenario.\n",
        "- **0**: Suggests overlapping clusters; samples lie between clusters.\n",
        "- **-1**: Implies misclassified samples; likely assigned to the wrong cluster.\n",
        "\n",
        "✅ **Best Used When:** You want a per-sample metric to understand cluster cohesion and separation.\n",
        "\n",
        "🔍 **Interpretation Guidelines:**\n",
        "- > 0.7 → Strong structure\n",
        "- 0.5 – 0.7 → Reasonable structure\n",
        "- < 0.25 → Weak or questionable clustering\n",
        "\n",
        "---\n",
        "\n",
        "#### 2️⃣ **Calinski-Harabasz Index (Variance Ratio Criterion)**  \n",
        "🔢 *Range:* **Positive values only (no upper bound)**\n",
        "\n",
        "> *\"Evaluates the ratio of between-cluster dispersion to within-cluster dispersion.\"*\n",
        "\n",
        "- **Higher Values**: Indicate better-defined, more separated clusters.\n",
        "- This index favors convex-shaped clusters and performs well with algorithms like K-Means.\n",
        "\n",
        "✅ **Best Used When:** Comparing different clustering models or tuning the number of clusters.\n",
        "\n",
        "💡 **Tip:** The Calinski-Harabasz score increases as the clusters become denser and more separated.\n",
        "\n",
        "---\n",
        "\n",
        "#### 3️⃣ **Davies-Bouldin Score**  \n",
        "📉 *Range:* **0 to ∞**\n",
        "\n",
        "> *\"Measures the average similarity between each cluster and its most similar one.\"*\n",
        "\n",
        "- **Lower Values**: Indicate better clustering — ideally close to **0**.\n",
        "- **Higher Values**: Suggest clusters overlap significantly or are poorly separated.\n",
        "\n",
        "✅ **Best Used When:** Seeking a computationally efficient metric for evaluating compactness and separation.\n",
        "\n",
        "⚠️ **Note:** Unlike other metrics, this score **does not require ground truth labels**, but prefers clusters that are spherical and evenly sized.\n",
        "\n",
        "---\n",
        "\n",
        "### 🧭 Choosing the Right Metric\n",
        "\n",
        "| Metric | Best For | Ideal Value |\n",
        "|--------|----------|-------------|\n",
        "| Silhouette Score | Detailed per-sample analysis | Close to **+1** |\n",
        "| Calinski-Harabasz | Model comparison & selection | As **high** as possible |\n",
        "| Davies-Bouldin | Compactness & separation assessment | As **low** as possible |\n",
        "\n",
        "---\n",
        "\n",
        "### ✅ Final Thoughts\n",
        "\n",
        "Each of these metrics provides unique insights into the performance of clustering algorithms. To get a well-rounded understanding, it's often recommended to use multiple metrics in combination, especially since no single measure universally defines \"the best\" clustering solution.\n",
        "\n"
      ]
    },
    {
      "cell_type": "code",
      "execution_count": 7,
      "id": "c1289127",
      "metadata": {},
      "outputs": [],
      "source": [
        "# Results Interpretation\n",
        "best_algorithm = 'KMeans'  # Based on highest silhouette score\n",
        "print(f'The best performing algorithm is {best_algorithm} based on the clustering evaluation metrics.')"
      ]
    },
    {
      "cell_type": "markdown",
      "id": "d09222d7",
      "metadata": {},
      "source": [
        "## 7. Conclusion\n",
        "This notebook demonstrated how to perform customer segmentation using clustering techniques. We evaluated the performance of different clustering algorithms and visualized the results using PCA. Based on the metrics, we concluded that KMeans provided the best results."
      ]
    }
  ],
  "metadata": {
    "kernelspec": {
      "display_name": "ml-oLtWhEFA-py3.9",
      "language": "python",
      "name": "python3"
    },
    "language_info": {
      "codemirror_mode": {
        "name": "ipython",
        "version": 3
      },
      "file_extension": ".py",
      "mimetype": "text/x-python",
      "name": "python",
      "nbconvert_exporter": "python",
      "pygments_lexer": "ipython3",
      "version": "3.9.0"
    }
  },
  "nbformat": 4,
  "nbformat_minor": 5
}
