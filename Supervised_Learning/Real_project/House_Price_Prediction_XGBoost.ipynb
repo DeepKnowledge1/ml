{
 "cells": [
  {
   "cell_type": "markdown",
   "id": "fa8a59cd",
   "metadata": {},
   "source": [
    "# 🏠 House Price Prediction Using XGBoost Regressor\n",
    "> Based on real-world Melbourne housing data (https://example.com/xgboost-house-price)"
   ]
  },
  {
   "cell_type": "markdown",
   "id": "ccd54fe7",
   "metadata": {},
   "source": [
    "## 📚 Table of Contents\n",
    "1. [Import Libraries](#1-import-libraries)\n",
    "2. [Load Dataset](#2-load-dataset)\n",
    "3. [Data Preprocessing](#3-data-preprocessing)\n",
    "4. [Exploratory Data Analysis (EDA)](4-exploratory-data-analysis-eda)\n",
    "5. [Train/Test Split](#5-traintest-split)\n",
    "6. [Model Training with XGBoost](#6-model-training-with-xgboost)\n",
    "7. [Model Evaluation](#7-model-evaluation)\n",
    "8. [Visualize Predictions](#8-visualize-predictions)\n",
    "9. [Feature Importance](#9-feature-importance)\n",
    "10. [Make Predictions](#10-make-predictions)\n",
    "11. [Save Model](#11-save-model)"
   ]
  },
  {
   "cell_type": "markdown",
   "id": "6387e674",
   "metadata": {},
   "source": [
    "## 1. Import Libraries"
   ]
  },
  {
   "cell_type": "code",
   "execution_count": null,
   "id": "fe8f808c",
   "metadata": {},
   "outputs": [],
   "source": [
    "import pandas as pd\n",
    "import numpy as np\n",
    "import matplotlib.pyplot as plt\n",
    "import seaborn as sns\n",
    "\n",
    "from sklearn.model_selection import train_test_split\n",
    "from xgboost import XGBRegressor\n",
    "from sklearn.metrics import mean_squared_error, r2_score\n",
    "from sklearn.preprocessing import LabelEncoder"
   ]
  },
  {
   "cell_type": "markdown",
   "id": "059fce75",
   "metadata": {},
   "source": [
    "## 2. Load Dataset"
   ]
  },
  {
   "cell_type": "code",
   "execution_count": null,
   "id": "43efe003",
   "metadata": {},
   "outputs": [],
   "source": [
    "# Replace with your local path or download from GitHub\n",
    "df = pd.read_csv(r\"D:\\01-DATA\\MELBOURNE_HOUSE_PRICES_LESS.csv\")\n",
    "\n",
    "# Display first few rows\n",
    "df.head()"
   ]
  },
  {
   "cell_type": "markdown",
   "id": "fba7cc61",
   "metadata": {},
   "source": [
    "## 3. Data Preprocessing"
   ]
  },
  {
   "cell_type": "code",
   "execution_count": null,
   "id": "3652b910",
   "metadata": {},
   "outputs": [],
   "source": [
    "# Check column names\n",
    "print(\"Available columns:\", df.columns.tolist())\n",
    "\n",
    "# Drop irrelevant columns\n",
    "df = df.drop(['Method', 'Regionname'], axis=1)\n",
    "\n",
    "\n",
    "\n",
    "# Encode categorical variable 'Type'\n",
    "le = LabelEncoder()\n",
    "df['Type'] = le.fit_transform(df['Type'])\n",
    "\n",
    "# Define feature set (only existing columns)\n",
    "features = ['Rooms', 'Type', 'Postcode', 'Distance', 'Propertycount']\n",
    "\n",
    "\n",
    "# Drop missing values\n",
    "df_clean = df.dropna()\n",
    "\n",
    "# Select features and target\n",
    "X = df_clean[features]\n",
    "y = df_clean['Price']"
   ]
  },
  {
   "cell_type": "markdown",
   "id": "6afc4d73",
   "metadata": {},
   "source": [
    "## 4. Exploratory Data Analysis (EDA)"
   ]
  },
  {
   "cell_type": "code",
   "execution_count": null,
   "id": "b1d7e156",
   "metadata": {},
   "outputs": [],
   "source": [
    "plt.figure(figsize=(10, 8))\n",
    "sns.heatmap(X.corr(numeric_only=True), annot=True, cmap='coolwarm')\n",
    "plt.title(\"Feature Correlation\")\n",
    "plt.show()"
   ]
  },
  {
   "cell_type": "code",
   "execution_count": null,
   "id": "ce5f04ba",
   "metadata": {},
   "outputs": [],
   "source": [
    "sns.histplot(y, kde=True)\n",
    "plt.title(\"Distribution of House Prices\")\n",
    "plt.xlabel(\"Price\")\n",
    "plt.ylabel(\"Frequency\")\n",
    "plt.show()"
   ]
  },
  {
   "cell_type": "markdown",
   "id": "ac3386d7",
   "metadata": {},
   "source": [
    "## 5. Train/Test Split"
   ]
  },
  {
   "cell_type": "code",
   "execution_count": null,
   "id": "a7c9912c",
   "metadata": {},
   "outputs": [],
   "source": [
    "X_train, X_test, y_train, y_test = train_test_split(X, y, test_size=0.2, random_state=42)"
   ]
  },
  {
   "cell_type": "markdown",
   "id": "2df98bd6",
   "metadata": {},
   "source": [
    "## 6. Model Training with XGBoost"
   ]
  },
  {
   "cell_type": "code",
   "execution_count": null,
   "id": "98592ab0",
   "metadata": {},
   "outputs": [],
   "source": [
    "model = XGBRegressor(\n",
    "    n_estimators=200,\n",
    "    learning_rate=0.1,\n",
    "    max_depth=3,\n",
    "    subsample=0.8,\n",
    "    colsample_bytree=0.7,\n",
    "    random_state=42\n",
    ")\n",
    "_= model.fit(X_train, y_train)"
   ]
  },
  {
   "cell_type": "markdown",
   "id": "5e69c3a5",
   "metadata": {},
   "source": [
    "## 7. Model Evaluation"
   ]
  },
  {
   "cell_type": "code",
   "execution_count": null,
   "id": "92626936",
   "metadata": {},
   "outputs": [],
   "source": [
    "y_pred = model.predict(X_test)\n",
    "\n",
    "mse = mean_squared_error(y_test, y_pred)\n",
    "r2 = r2_score(y_test, y_pred)\n",
    "\n",
    "print(f\"Mean Squared Error: {mse}\")\n",
    "print(f\"R² Score: {r2}\")"
   ]
  },
  {
   "cell_type": "markdown",
   "id": "24270b37",
   "metadata": {},
   "source": [
    "## 8. Visualize Predictions"
   ]
  },
  {
   "cell_type": "code",
   "execution_count": null,
   "id": "a3500940",
   "metadata": {},
   "outputs": [],
   "source": [
    "plt.scatter(y_test, y_pred)\n",
    "plt.xlabel(\"Actual Prices\")\n",
    "plt.ylabel(\"Predicted Prices\")\n",
    "plt.title(\"XGBoost: Actual vs Predicted Prices\")\n",
    "plt.plot([min(y_test), max(y_test)], [min(y_test), max(y_test)], color='red')\n",
    "plt.show()"
   ]
  },
  {
   "cell_type": "markdown",
   "id": "2cfe787f",
   "metadata": {},
   "source": [
    "## 9. Feature Importance"
   ]
  },
  {
   "cell_type": "code",
   "execution_count": null,
   "id": "55ea75ee",
   "metadata": {},
   "outputs": [],
   "source": [
    "from xgboost import plot_importance\n",
    "\n",
    "plot_importance(model)\n",
    "plt.title(\"Feature Importance - XGBoost\")\n",
    "plt.show()"
   ]
  },
  {
   "cell_type": "markdown",
   "id": "efc11204",
   "metadata": {},
   "source": [
    "## 10. Make Predictions"
   ]
  },
  {
   "cell_type": "code",
   "execution_count": null,
   "id": "9a4d249d",
   "metadata": {},
   "outputs": [],
   "source": [
    "# Example input: [Rooms, Type, Postcode, Distance, Propertycount]\n",
    "# Type must be encoded (e.g., h=0, u=1, t=2)\n",
    "sample_input = np.array([[3, 0, 3000, 10.2, 1000]])\n",
    "predicted_price = model.predict(sample_input)\n",
    "print(f\"Predicted Price: ${predicted_price[0]:,.2f}\")"
   ]
  },
  {
   "cell_type": "markdown",
   "id": "fd655ef8",
   "metadata": {},
   "source": [
    "## 11. Save Model"
   ]
  },
  {
   "cell_type": "code",
   "execution_count": null,
   "id": "77e84866",
   "metadata": {},
   "outputs": [],
   "source": [
    "import joblib\n",
    "\n",
    "joblib.dump(model, 'xgboost_house_price_model.pkl')\n",
    "print(\"✅ Model saved as 'xgboost_house_price_model.pkl'\")"
   ]
  },
  {
   "cell_type": "markdown",
   "id": "9d879cb5",
   "metadata": {},
   "source": [
    "## ✅ Conclusion\n",
    "\n",
    "This notebook provides a complete end-to-end pipeline for **house price prediction using XGBoost**, based on the actual columns in your dataset.\n",
    "\n",
    "The original dataset contains these columns:\n",
    "- Suburb\n",
    "- Address\n",
    "- Rooms\n",
    "- Type\n",
    "- Price\n",
    "- Method\n",
    "- SellerG\n",
    "- Date\n",
    "- Postcode\n",
    "- Regionname\n",
    "- Propertycount\n",
    "- Distance\n",
    "- CouncilArea\n",
    "\n",
    "We dropped some irrelevant columns and selected only the following for modeling:\n",
    "- Rooms\n",
    "- Type (encoded)\n",
    "- Postcode\n",
    "- Distance\n",
    "- Propertycount\n"
   ]
  }
 ],
 "metadata": {
  "kernelspec": {
   "display_name": "ml-oLtWhEFA-py3.9",
   "language": "python",
   "name": "python3"
  },
  "language_info": {
   "codemirror_mode": {
    "name": "ipython",
    "version": 3
   },
   "file_extension": ".py",
   "mimetype": "text/x-python",
   "name": "python",
   "nbconvert_exporter": "python",
   "pygments_lexer": "ipython3",
   "version": "3.9.0"
  }
 },
 "nbformat": 4,
 "nbformat_minor": 5
}
