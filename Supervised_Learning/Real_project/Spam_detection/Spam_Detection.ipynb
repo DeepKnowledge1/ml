{
 "cells": [
  {
   "cell_type": "markdown",
   "metadata": {},
   "source": [
    "# 📘 XGBoost Classifier Analysis\n",
    "This notebook performs data loading, preprocessing, training, and evaluation using an XGBoost classifier on a spam email dataset."
   ]
  },
  {
   "cell_type": "markdown",
   "metadata": {},
   "source": [
    "## 📦 1. Imports and Setup"
   ]
  },
  {
   "cell_type": "code",
   "execution_count": null,
   "id": "83450b69",
   "metadata": {},
   "outputs": [],
   "source": [
    "import pandas as pd\n",
    "import matplotlib.pyplot as plt\n",
    "import seaborn as sns\n",
    "from sklearn.model_selection import train_test_split\n",
    "from sklearn.feature_extraction.text import CountVectorizer\n",
    "from sklearn.preprocessing import LabelEncoder\n",
    "from sklearn.metrics import classification_report, confusion_matrix, ConfusionMatrixDisplay, roc_curve, auc, RocCurveDisplay\n",
    "from xgboost import XGBClassifier\n",
    "\n",
    "sns.set(style=\"whitegrid\")"
   ]
  },
  {
   "cell_type": "markdown",
   "id": "21e88bc6",
   "metadata": {},
   "source": [
    "## 📊 2. Load and Explore the Dataset"
   ]
  },
  {
   "cell_type": "code",
   "execution_count": null,
   "id": "4c957a89",
   "metadata": {},
   "outputs": [],
   "source": [
    "file_path = \"./emails.csv\"  # Update path as needed\n",
    "df = pd.read_csv(file_path)\n",
    "display(df.head())\n",
    "\n",
    "print(f\"Dataset Shape: {df.shape}\")\n"
   ]
  },
  {
   "cell_type": "markdown",
   "id": "568192ba",
   "metadata": {},
   "source": [
    "## Class Distribution"
   ]
  },
  {
   "cell_type": "code",
   "execution_count": null,
   "id": "4bbe206b",
   "metadata": {},
   "outputs": [],
   "source": [
    "print(\"Class Distribution:\")\n",
    "print(df['spam'].value_counts().rename(index={1: 'Spam', 0: 'Ham'}))"
   ]
  },
  {
   "cell_type": "code",
   "execution_count": null,
   "id": "aa710ac6",
   "metadata": {},
   "outputs": [],
   "source": [
    "plt.figure(figsize=(6, 4))\n",
    "sns.countplot(data=df, x='spam')\n",
    "plt.title(\"Class Distribution\")\n",
    "plt.xticks([0, 1], ['Ham', 'Spam'])\n",
    "plt.xlabel(\"Class\")\n",
    "plt.ylabel(\"Count\")\n",
    "plt.show()"
   ]
  },
  {
   "cell_type": "markdown",
   "id": "fb033389",
   "metadata": {},
   "source": [
    "## 🪼 3. Preprocessing"
   ]
  },
  {
   "cell_type": "code",
   "execution_count": null,
   "id": "b1f3c874",
   "metadata": {},
   "outputs": [],
   "source": [
    "# Convert spam column to labels\n",
    "df['spam'] = df['spam'].astype(str).replace({\"1\": \"spam\", \"0\": \"ham\"})\n",
    "\n",
    "# Extract features and labels\n",
    "X_raw = df[\"text\"].values\n",
    "y_raw = df[\"spam\"].values\n",
    "\n",
    "# Vectorize text data\n",
    "vectorizer = CountVectorizer()\n",
    "X = vectorizer.fit_transform(X_raw)\n",
    "\n",
    "# Encode labels\n",
    "label_encoder = LabelEncoder()\n",
    "y = label_encoder.fit_transform(y_raw)\n",
    "class_names = label_encoder.classes_\n",
    "\n",
    "# Split data\n",
    "X_train, X_test, y_train, y_test = train_test_split(\n",
    "    X, y, test_size=0.2, random_state=42, stratify=y\n",
    ")"
   ]
  },
  {
   "cell_type": "markdown",
   "id": "5f6a6917",
   "metadata": {},
   "source": [
    "## 🚀 4. Train the XGBoost Classifier"
   ]
  },
  {
   "cell_type": "code",
   "execution_count": null,
   "id": "123ab869",
   "metadata": {},
   "outputs": [],
   "source": [
    "model = XGBClassifier(use_label_encoder=False, eval_metric='logloss', max_depth=1, learning_rate=0.1, n_estimators=50)\n",
    "model.fit(X_train, y_train)\n",
    "\n",
    "predictions = model.predict(X_test)\n",
    "y_scores = model.predict_proba(X_test)[:, 1]\n",
    "\n",
    "y_test_decoded = label_encoder.inverse_transform(y_test)\n",
    "predictions_decoded = label_encoder.inverse_transform(predictions)"
   ]
  },
  {
   "cell_type": "markdown",
   "metadata": {},
   "source": [
    "## 📟 5. Evaluation Report"
   ]
  },
  {
   "cell_type": "code",
   "execution_count": null,
   "metadata": {},
   "outputs": [],
   "source": [
    "print(\"Confusion Matrix:\")\n",
    "print(confusion_matrix(y_test_decoded, predictions_decoded))\n",
    "\n",
    "print(\"\\nClassification Report:\")\n",
    "print(classification_report(y_test_decoded, predictions_decoded, zero_division=1))"
   ]
  },
  {
   "cell_type": "markdown",
   "metadata": {},
   "source": [
    "## 🔲 6. Confusion Matrix Visualization"
   ]
  },
  {
   "cell_type": "code",
   "execution_count": null,
   "metadata": {},
   "outputs": [],
   "source": [
    "ConfusionMatrixDisplay.from_predictions(\n",
    "    y_test_decoded,\n",
    "    predictions_decoded,\n",
    "    display_labels=class_names,\n",
    "    cmap=plt.cm.Blues,\n",
    "    xticks_rotation=45\n",
    ")\n",
    "plt.title(\"Confusion Matrix - XGBoost\")\n",
    "plt.show()"
   ]
  },
  {
   "cell_type": "markdown",
   "metadata": {},
   "source": [
    "## 📈 7. ROC Curve and AUC"
   ]
  },
  {
   "cell_type": "code",
   "execution_count": null,
   "metadata": {},
   "outputs": [],
   "source": [
    "fpr, tpr, _ = roc_curve(y_test, y_scores, pos_label=1)\n",
    "roc_auc = auc(fpr, tpr)\n",
    "\n",
    "plt.figure()\n",
    "RocCurveDisplay(fpr=fpr, tpr=tpr, roc_auc=roc_auc).plot()\n",
    "plt.title(\"ROC Curve - XGBoost\")\n",
    "plt.show()\n",
    "\n",
    "print(f\"AUC Score: {roc_auc:.2f}\")"
   ]
  },
  {
   "cell_type": "markdown",
   "id": "da1e4930",
   "metadata": {},
   "source": [
    "## Save model"
   ]
  },
  {
   "cell_type": "code",
   "execution_count": null,
   "id": "7f04da92",
   "metadata": {},
   "outputs": [],
   "source": [
    "import joblib\n",
    "\n",
    "joblib.dump(model, 'xgboost_Spam_email_model.pkl')\n",
    "print(\"✅ Model saved as 'xgboost_Spam_email_model.pkl'\")"
   ]
  },
  {
   "cell_type": "markdown",
   "metadata": {},
   "source": [
    "## ✅ 8. Summary"
   ]
  },
  {
   "cell_type": "code",
   "execution_count": null,
   "metadata": {},
   "outputs": [],
   "source": [
    "print(\"XGBoost classifier trained, evaluated, and visualized. All steps complete.\")"
   ]
  }
 ],
 "metadata": {
  "kernelspec": {
   "display_name": "ml-oLtWhEFA-py3.9",
   "language": "python",
   "name": "python3"
  },
  "language_info": {
   "codemirror_mode": {
    "name": "ipython",
    "version": 3
   },
   "file_extension": ".py",
   "mimetype": "text/x-python",
   "name": "python",
   "nbconvert_exporter": "python",
   "pygments_lexer": "ipython3",
   "version": "3.9.0"
  }
 },
 "nbformat": 4,
 "nbformat_minor": 5
}
